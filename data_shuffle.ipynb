{
 "cells": [
  {
   "cell_type": "code",
   "execution_count": 1,
   "id": "8e8c9a9d-4394-4486-8127-120b1c62ac7d",
   "metadata": {
    "execution": {
     "iopub.execute_input": "2024-10-24T05:24:56.730945Z",
     "iopub.status.busy": "2024-10-24T05:24:56.729845Z",
     "iopub.status.idle": "2024-10-24T05:24:56.943544Z",
     "shell.execute_reply": "2024-10-24T05:24:56.942999Z",
     "shell.execute_reply.started": "2024-10-24T05:24:56.730881Z"
    },
    "tags": []
   },
   "outputs": [],
   "source": [
    "import pandas as pd"
   ]
  },
  {
   "cell_type": "code",
   "execution_count": 3,
   "id": "65c3fec2-e5b0-42b1-a327-887f18ab0622",
   "metadata": {
    "execution": {
     "iopub.execute_input": "2024-10-24T05:25:19.929951Z",
     "iopub.status.busy": "2024-10-24T05:25:19.929627Z",
     "iopub.status.idle": "2024-10-24T05:25:20.216559Z",
     "shell.execute_reply": "2024-10-24T05:25:20.215864Z",
     "shell.execute_reply.started": "2024-10-24T05:25:19.929922Z"
    },
    "tags": []
   },
   "outputs": [],
   "source": [
    "df=pd.read_csv('data_corrected.csv',sep='|',index_col=0)"
   ]
  },
  {
   "cell_type": "code",
   "execution_count": 4,
   "id": "a2b7fcfb-8380-457c-9ea9-97e1216f4348",
   "metadata": {
    "execution": {
     "iopub.execute_input": "2024-10-24T05:25:22.259067Z",
     "iopub.status.busy": "2024-10-24T05:25:22.258502Z",
     "iopub.status.idle": "2024-10-24T05:25:22.279154Z",
     "shell.execute_reply": "2024-10-24T05:25:22.278027Z",
     "shell.execute_reply.started": "2024-10-24T05:25:22.259021Z"
    },
    "tags": []
   },
   "outputs": [
    {
     "data": {
      "text/html": [
       "<div>\n",
       "<style scoped>\n",
       "    .dataframe tbody tr th:only-of-type {\n",
       "        vertical-align: middle;\n",
       "    }\n",
       "\n",
       "    .dataframe tbody tr th {\n",
       "        vertical-align: top;\n",
       "    }\n",
       "\n",
       "    .dataframe thead th {\n",
       "        text-align: right;\n",
       "    }\n",
       "</style>\n",
       "<table border=\"1\" class=\"dataframe\">\n",
       "  <thead>\n",
       "    <tr style=\"text-align: right;\">\n",
       "      <th></th>\n",
       "      <th>content</th>\n",
       "      <th>label</th>\n",
       "    </tr>\n",
       "  </thead>\n",
       "  <tbody>\n",
       "    <tr>\n",
       "      <th>0</th>\n",
       "      <td>It is proposed to consider in this article the...</td>\n",
       "      <td>wrong</td>\n",
       "    </tr>\n",
       "    <tr>\n",
       "      <th>1</th>\n",
       "      <td>The Alignment of the Boundary India’s northern...</td>\n",
       "      <td>wrong</td>\n",
       "    </tr>\n",
       "    <tr>\n",
       "      <th>2</th>\n",
       "      <td>The whole frontier is traditional and well kno...</td>\n",
       "      <td>wrong</td>\n",
       "    </tr>\n",
       "    <tr>\n",
       "      <th>3</th>\n",
       "      <td>In the Western Sector it runs along the waters...</td>\n",
       "      <td>wrong</td>\n",
       "    </tr>\n",
       "    <tr>\n",
       "      <th>4</th>\n",
       "      <td>Thereafter, it turns south and runs along the ...</td>\n",
       "      <td>wrong</td>\n",
       "    </tr>\n",
       "    <tr>\n",
       "      <th>...</th>\n",
       "      <td>...</td>\n",
       "      <td>...</td>\n",
       "    </tr>\n",
       "    <tr>\n",
       "      <th>71431</th>\n",
       "      <td>Even a man of his stature would have had to tr...</td>\n",
       "      <td>wrong</td>\n",
       "    </tr>\n",
       "    <tr>\n",
       "      <th>71432</th>\n",
       "      <td>His successors will certainly need more time t...</td>\n",
       "      <td>wrong</td>\n",
       "    </tr>\n",
       "    <tr>\n",
       "      <th>71433</th>\n",
       "      <td>They will benefit from Nehru’s own confession ...</td>\n",
       "      <td>wrong</td>\n",
       "    </tr>\n",
       "    <tr>\n",
       "      <th>71434</th>\n",
       "      <td>but international affairs would suffer a loss ...</td>\n",
       "      <td>wrong</td>\n",
       "    </tr>\n",
       "    <tr>\n",
       "      <th>71435</th>\n",
       "      <td>As minister without portfolio Lal Bahadur Shas...</td>\n",
       "      <td>wrong</td>\n",
       "    </tr>\n",
       "  </tbody>\n",
       "</table>\n",
       "<p>71436 rows × 2 columns</p>\n",
       "</div>"
      ],
      "text/plain": [
       "                                                 content  label\n",
       "0      It is proposed to consider in this article the...  wrong\n",
       "1      The Alignment of the Boundary India’s northern...  wrong\n",
       "2      The whole frontier is traditional and well kno...  wrong\n",
       "3      In the Western Sector it runs along the waters...  wrong\n",
       "4      Thereafter, it turns south and runs along the ...  wrong\n",
       "...                                                  ...    ...\n",
       "71431  Even a man of his stature would have had to tr...  wrong\n",
       "71432  His successors will certainly need more time t...  wrong\n",
       "71433  They will benefit from Nehru’s own confession ...  wrong\n",
       "71434  but international affairs would suffer a loss ...  wrong\n",
       "71435  As minister without portfolio Lal Bahadur Shas...  wrong\n",
       "\n",
       "[71436 rows x 2 columns]"
      ]
     },
     "execution_count": 4,
     "metadata": {},
     "output_type": "execute_result"
    }
   ],
   "source": [
    "df"
   ]
  },
  {
   "cell_type": "code",
   "execution_count": 22,
   "id": "8a90f23a-194d-466c-8072-73f7941ee646",
   "metadata": {
    "execution": {
     "iopub.execute_input": "2024-10-24T05:28:27.514125Z",
     "iopub.status.busy": "2024-10-24T05:28:27.513593Z",
     "iopub.status.idle": "2024-10-24T05:28:27.531610Z",
     "shell.execute_reply": "2024-10-24T05:28:27.531180Z",
     "shell.execute_reply.started": "2024-10-24T05:28:27.514082Z"
    },
    "tags": []
   },
   "outputs": [],
   "source": [
    "df_wrong=df[df['label']=='wrong'].sample(20000)"
   ]
  },
  {
   "cell_type": "code",
   "execution_count": 15,
   "id": "c0d1b762-1990-4c4b-af4f-98bbb2772dc4",
   "metadata": {
    "execution": {
     "iopub.execute_input": "2024-10-24T05:27:25.460244Z",
     "iopub.status.busy": "2024-10-24T05:27:25.459709Z",
     "iopub.status.idle": "2024-10-24T05:27:25.473770Z",
     "shell.execute_reply": "2024-10-24T05:27:25.472469Z",
     "shell.execute_reply.started": "2024-10-24T05:27:25.460200Z"
    },
    "tags": []
   },
   "outputs": [
    {
     "data": {
      "text/html": [
       "<div>\n",
       "<style scoped>\n",
       "    .dataframe tbody tr th:only-of-type {\n",
       "        vertical-align: middle;\n",
       "    }\n",
       "\n",
       "    .dataframe tbody tr th {\n",
       "        vertical-align: top;\n",
       "    }\n",
       "\n",
       "    .dataframe thead th {\n",
       "        text-align: right;\n",
       "    }\n",
       "</style>\n",
       "<table border=\"1\" class=\"dataframe\">\n",
       "  <thead>\n",
       "    <tr style=\"text-align: right;\">\n",
       "      <th></th>\n",
       "      <th>content</th>\n",
       "      <th>label</th>\n",
       "    </tr>\n",
       "  </thead>\n",
       "  <tbody>\n",
       "    <tr>\n",
       "      <th>48068</th>\n",
       "      <td>I have now received orders from Lhasa and I ac...</td>\n",
       "      <td>wrong</td>\n",
       "    </tr>\n",
       "    <tr>\n",
       "      <th>23260</th>\n",
       "      <td>In 191112 Tibet, under the Thirteenth Dalai La...</td>\n",
       "      <td>wrong</td>\n",
       "    </tr>\n",
       "    <tr>\n",
       "      <th>18329</th>\n",
       "      <td>434where the Indonesian government was facilit...</td>\n",
       "      <td>wrong</td>\n",
       "    </tr>\n",
       "    <tr>\n",
       "      <th>21389</th>\n",
       "      <td>The entire stretch of the Line of Control betw...</td>\n",
       "      <td>wrong</td>\n",
       "    </tr>\n",
       "    <tr>\n",
       "      <th>530</th>\n",
       "      <td>Besides it is a principle of good faith that “...</td>\n",
       "      <td>wrong</td>\n",
       "    </tr>\n",
       "    <tr>\n",
       "      <th>...</th>\n",
       "      <td>...</td>\n",
       "      <td>...</td>\n",
       "    </tr>\n",
       "    <tr>\n",
       "      <th>40602</th>\n",
       "      <td>Influenced by these argument, Gordon agreed to...</td>\n",
       "      <td>wrong</td>\n",
       "    </tr>\n",
       "    <tr>\n",
       "      <th>13468</th>\n",
       "      <td>Zhao Weiwen, Yin Zhong guanxi fengyun lu (1949...</td>\n",
       "      <td>wrong</td>\n",
       "    </tr>\n",
       "    <tr>\n",
       "      <th>71298</th>\n",
       "      <td>In the meantime her unilateral withdrawals beh...</td>\n",
       "      <td>wrong</td>\n",
       "    </tr>\n",
       "    <tr>\n",
       "      <th>16214</th>\n",
       "      <td>Apparently this was the first occasion on whic...</td>\n",
       "      <td>wrong</td>\n",
       "    </tr>\n",
       "    <tr>\n",
       "      <th>39331</th>\n",
       "      <td>Robertson found little possibility that others...</td>\n",
       "      <td>wrong</td>\n",
       "    </tr>\n",
       "  </tbody>\n",
       "</table>\n",
       "<p>20000 rows × 2 columns</p>\n",
       "</div>"
      ],
      "text/plain": [
       "                                                 content  label\n",
       "48068  I have now received orders from Lhasa and I ac...  wrong\n",
       "23260  In 191112 Tibet, under the Thirteenth Dalai La...  wrong\n",
       "18329  434where the Indonesian government was facilit...  wrong\n",
       "21389  The entire stretch of the Line of Control betw...  wrong\n",
       "530    Besides it is a principle of good faith that “...  wrong\n",
       "...                                                  ...    ...\n",
       "40602  Influenced by these argument, Gordon agreed to...  wrong\n",
       "13468  Zhao Weiwen, Yin Zhong guanxi fengyun lu (1949...  wrong\n",
       "71298  In the meantime her unilateral withdrawals beh...  wrong\n",
       "16214  Apparently this was the first occasion on whic...  wrong\n",
       "39331  Robertson found little possibility that others...  wrong\n",
       "\n",
       "[20000 rows x 2 columns]"
      ]
     },
     "execution_count": 15,
     "metadata": {},
     "output_type": "execute_result"
    }
   ],
   "source": [
    "df_wrong"
   ]
  },
  {
   "cell_type": "code",
   "execution_count": 13,
   "id": "5bc87c14-51bc-4d53-a4c4-5e65b04bea85",
   "metadata": {
    "execution": {
     "iopub.execute_input": "2024-10-24T05:27:15.564972Z",
     "iopub.status.busy": "2024-10-24T05:27:15.564425Z",
     "iopub.status.idle": "2024-10-24T05:27:15.585713Z",
     "shell.execute_reply": "2024-10-24T05:27:15.584727Z",
     "shell.execute_reply.started": "2024-10-24T05:27:15.564922Z"
    },
    "tags": []
   },
   "outputs": [],
   "source": [
    "df_positive=df[df['label']=='positive'].sample(20000)"
   ]
  },
  {
   "cell_type": "code",
   "execution_count": 16,
   "id": "37b14e75-8a2d-4188-8a1e-28819ec1a525",
   "metadata": {
    "execution": {
     "iopub.execute_input": "2024-10-24T05:27:28.331374Z",
     "iopub.status.busy": "2024-10-24T05:27:28.331097Z",
     "iopub.status.idle": "2024-10-24T05:27:28.338975Z",
     "shell.execute_reply": "2024-10-24T05:27:28.338410Z",
     "shell.execute_reply.started": "2024-10-24T05:27:28.331351Z"
    },
    "tags": []
   },
   "outputs": [
    {
     "data": {
      "text/html": [
       "<div>\n",
       "<style scoped>\n",
       "    .dataframe tbody tr th:only-of-type {\n",
       "        vertical-align: middle;\n",
       "    }\n",
       "\n",
       "    .dataframe tbody tr th {\n",
       "        vertical-align: top;\n",
       "    }\n",
       "\n",
       "    .dataframe thead th {\n",
       "        text-align: right;\n",
       "    }\n",
       "</style>\n",
       "<table border=\"1\" class=\"dataframe\">\n",
       "  <thead>\n",
       "    <tr style=\"text-align: right;\">\n",
       "      <th></th>\n",
       "      <th>content</th>\n",
       "      <th>label</th>\n",
       "    </tr>\n",
       "  </thead>\n",
       "  <tbody>\n",
       "    <tr>\n",
       "      <th>8266</th>\n",
       "      <td>If Chinese Plenipotentiary then refuses to sig...</td>\n",
       "      <td>positive</td>\n",
       "    </tr>\n",
       "    <tr>\n",
       "      <th>26740</th>\n",
       "      <td>The British, who had ruled Burma as a province...</td>\n",
       "      <td>positive</td>\n",
       "    </tr>\n",
       "    <tr>\n",
       "      <th>26141</th>\n",
       "      <td>This was the normal procedure for the delimita...</td>\n",
       "      <td>positive</td>\n",
       "    </tr>\n",
       "    <tr>\n",
       "      <th>26700</th>\n",
       "      <td>Peking explained that high altitude flights ov...</td>\n",
       "      <td>positive</td>\n",
       "    </tr>\n",
       "    <tr>\n",
       "      <th>28471</th>\n",
       "      <td>By this time the water level had dropped, and ...</td>\n",
       "      <td>positive</td>\n",
       "    </tr>\n",
       "    <tr>\n",
       "      <th>...</th>\n",
       "      <td>...</td>\n",
       "      <td>...</td>\n",
       "    </tr>\n",
       "    <tr>\n",
       "      <th>25515</th>\n",
       "      <td>(The Chinese suspected that the Indians in fac...</td>\n",
       "      <td>positive</td>\n",
       "    </tr>\n",
       "    <tr>\n",
       "      <th>29621</th>\n",
       "      <td>(ii) As for the Note of 26 July, 1962, I shoul...</td>\n",
       "      <td>positive</td>\n",
       "    </tr>\n",
       "    <tr>\n",
       "      <th>24986</th>\n",
       "      <td>The [McMahon Line] therefore suffers from the ...</td>\n",
       "      <td>positive</td>\n",
       "    </tr>\n",
       "    <tr>\n",
       "      <th>53535</th>\n",
       "      <td>No total Chinese losses were announced but jud...</td>\n",
       "      <td>positive</td>\n",
       "    </tr>\n",
       "    <tr>\n",
       "      <th>28680</th>\n",
       "      <td>’The statement proceeded to confuse the Chines...</td>\n",
       "      <td>positive</td>\n",
       "    </tr>\n",
       "  </tbody>\n",
       "</table>\n",
       "<p>20000 rows × 2 columns</p>\n",
       "</div>"
      ],
      "text/plain": [
       "                                                 content     label\n",
       "8266   If Chinese Plenipotentiary then refuses to sig...  positive\n",
       "26740  The British, who had ruled Burma as a province...  positive\n",
       "26141  This was the normal procedure for the delimita...  positive\n",
       "26700  Peking explained that high altitude flights ov...  positive\n",
       "28471  By this time the water level had dropped, and ...  positive\n",
       "...                                                  ...       ...\n",
       "25515  (The Chinese suspected that the Indians in fac...  positive\n",
       "29621  (ii) As for the Note of 26 July, 1962, I shoul...  positive\n",
       "24986  The [McMahon Line] therefore suffers from the ...  positive\n",
       "53535  No total Chinese losses were announced but jud...  positive\n",
       "28680  ’The statement proceeded to confuse the Chines...  positive\n",
       "\n",
       "[20000 rows x 2 columns]"
      ]
     },
     "execution_count": 16,
     "metadata": {},
     "output_type": "execute_result"
    }
   ],
   "source": [
    "df_positive"
   ]
  },
  {
   "cell_type": "code",
   "execution_count": 28,
   "id": "8ec5e9ef-3137-462d-a085-fb2c2d9d48ba",
   "metadata": {
    "execution": {
     "iopub.execute_input": "2024-10-24T05:30:56.376768Z",
     "iopub.status.busy": "2024-10-24T05:30:56.376484Z",
     "iopub.status.idle": "2024-10-24T05:30:56.380461Z",
     "shell.execute_reply": "2024-10-24T05:30:56.379887Z",
     "shell.execute_reply.started": "2024-10-24T05:30:56.376747Z"
    },
    "tags": []
   },
   "outputs": [],
   "source": [
    "df_for_train=pd.concat([df_wrong,df_positive])"
   ]
  },
  {
   "cell_type": "code",
   "execution_count": 29,
   "id": "5df494c4-8b5d-4790-972c-6b2c1a86bf2f",
   "metadata": {
    "execution": {
     "iopub.execute_input": "2024-10-24T05:31:29.337544Z",
     "iopub.status.busy": "2024-10-24T05:31:29.337133Z",
     "iopub.status.idle": "2024-10-24T05:31:29.344511Z",
     "shell.execute_reply": "2024-10-24T05:31:29.344080Z",
     "shell.execute_reply.started": "2024-10-24T05:31:29.337522Z"
    },
    "tags": []
   },
   "outputs": [],
   "source": [
    "df_for_train=df_for_train.sample(frac=1).reset_index(drop=True)"
   ]
  },
  {
   "cell_type": "code",
   "execution_count": 31,
   "id": "d36f90e8-c0dd-4b01-be58-e664f76c242a",
   "metadata": {
    "execution": {
     "iopub.execute_input": "2024-10-24T05:31:44.729853Z",
     "iopub.status.busy": "2024-10-24T05:31:44.729539Z",
     "iopub.status.idle": "2024-10-24T05:31:44.742666Z",
     "shell.execute_reply": "2024-10-24T05:31:44.742084Z",
     "shell.execute_reply.started": "2024-10-24T05:31:44.729826Z"
    },
    "tags": []
   },
   "outputs": [
    {
     "data": {
      "text/html": [
       "<div>\n",
       "<style scoped>\n",
       "    .dataframe tbody tr th:only-of-type {\n",
       "        vertical-align: middle;\n",
       "    }\n",
       "\n",
       "    .dataframe tbody tr th {\n",
       "        vertical-align: top;\n",
       "    }\n",
       "\n",
       "    .dataframe thead th {\n",
       "        text-align: right;\n",
       "    }\n",
       "</style>\n",
       "<table border=\"1\" class=\"dataframe\">\n",
       "  <thead>\n",
       "    <tr style=\"text-align: right;\">\n",
       "      <th></th>\n",
       "      <th>content</th>\n",
       "      <th>label</th>\n",
       "    </tr>\n",
       "  </thead>\n",
       "  <tbody>\n",
       "    <tr>\n",
       "      <th>0</th>\n",
       "      <td>Accordingly, Nicolson, in his instructions of ...</td>\n",
       "      <td>positive</td>\n",
       "    </tr>\n",
       "    <tr>\n",
       "      <th>1</th>\n",
       "      <td>In reply Rose, specifically pointing to Chines...</td>\n",
       "      <td>wrong</td>\n",
       "    </tr>\n",
       "    <tr>\n",
       "      <th>2</th>\n",
       "      <td>In Nehru’s view, however, to come to such an a...</td>\n",
       "      <td>positive</td>\n",
       "    </tr>\n",
       "    <tr>\n",
       "      <th>3</th>\n",
       "      <td>Likewise, the conflict with India merits barel...</td>\n",
       "      <td>wrong</td>\n",
       "    </tr>\n",
       "    <tr>\n",
       "      <th>4</th>\n",
       "      <td>The flashpoints lay in those places, such as L...</td>\n",
       "      <td>positive</td>\n",
       "    </tr>\n",
       "    <tr>\n",
       "      <th>...</th>\n",
       "      <td>...</td>\n",
       "      <td>...</td>\n",
       "    </tr>\n",
       "    <tr>\n",
       "      <th>39995</th>\n",
       "      <td>It is better to keep SinoAmerican relations fr...</td>\n",
       "      <td>wrong</td>\n",
       "    </tr>\n",
       "    <tr>\n",
       "      <th>39996</th>\n",
       "      <td>Haji Habibulla, it seems, in 1864 and 1865 was...</td>\n",
       "      <td>positive</td>\n",
       "    </tr>\n",
       "    <tr>\n",
       "      <th>39997</th>\n",
       "      <td>It has been noticed earlier that eventually, t...</td>\n",
       "      <td>wrong</td>\n",
       "    </tr>\n",
       "    <tr>\n",
       "      <th>39998</th>\n",
       "      <td>The Indian replies and counterprotests used al...</td>\n",
       "      <td>positive</td>\n",
       "    </tr>\n",
       "    <tr>\n",
       "      <th>39999</th>\n",
       "      <td>Again, McMahon's draft referred to the delinea...</td>\n",
       "      <td>wrong</td>\n",
       "    </tr>\n",
       "  </tbody>\n",
       "</table>\n",
       "<p>40000 rows × 2 columns</p>\n",
       "</div>"
      ],
      "text/plain": [
       "                                                 content     label\n",
       "0      Accordingly, Nicolson, in his instructions of ...  positive\n",
       "1      In reply Rose, specifically pointing to Chines...     wrong\n",
       "2      In Nehru’s view, however, to come to such an a...  positive\n",
       "3      Likewise, the conflict with India merits barel...     wrong\n",
       "4      The flashpoints lay in those places, such as L...  positive\n",
       "...                                                  ...       ...\n",
       "39995  It is better to keep SinoAmerican relations fr...     wrong\n",
       "39996  Haji Habibulla, it seems, in 1864 and 1865 was...  positive\n",
       "39997  It has been noticed earlier that eventually, t...     wrong\n",
       "39998  The Indian replies and counterprotests used al...  positive\n",
       "39999  Again, McMahon's draft referred to the delinea...     wrong\n",
       "\n",
       "[40000 rows x 2 columns]"
      ]
     },
     "execution_count": 31,
     "metadata": {},
     "output_type": "execute_result"
    }
   ],
   "source": [
    "df_for_train"
   ]
  },
  {
   "cell_type": "code",
   "execution_count": 32,
   "id": "ee3d7368-d150-4426-9f19-66aea39ac5ee",
   "metadata": {
    "execution": {
     "iopub.execute_input": "2024-10-24T05:32:12.733498Z",
     "iopub.status.busy": "2024-10-24T05:32:12.732896Z",
     "iopub.status.idle": "2024-10-24T05:32:12.889296Z",
     "shell.execute_reply": "2024-10-24T05:32:12.888766Z",
     "shell.execute_reply.started": "2024-10-24T05:32:12.733455Z"
    },
    "tags": []
   },
   "outputs": [],
   "source": [
    "df_for_train.to_csv('data_for_train.csv',sep='|')"
   ]
  },
  {
   "cell_type": "code",
   "execution_count": 54,
   "id": "cb94ee6c-bbc9-497d-bc8d-daaa6a76fb21",
   "metadata": {
    "execution": {
     "iopub.execute_input": "2024-10-24T05:39:07.718578Z",
     "iopub.status.busy": "2024-10-24T05:39:07.718244Z",
     "iopub.status.idle": "2024-10-24T05:39:07.725022Z",
     "shell.execute_reply": "2024-10-24T05:39:07.724433Z",
     "shell.execute_reply.started": "2024-10-24T05:39:07.718549Z"
    },
    "tags": []
   },
   "outputs": [],
   "source": [
    "df_for_training=df_for_train[0:24000]"
   ]
  },
  {
   "cell_type": "code",
   "execution_count": 55,
   "id": "09dbf15d-b334-4930-8d54-9e72f32e4f0e",
   "metadata": {
    "execution": {
     "iopub.execute_input": "2024-10-24T05:39:08.746900Z",
     "iopub.status.busy": "2024-10-24T05:39:08.746538Z",
     "iopub.status.idle": "2024-10-24T05:39:08.750714Z",
     "shell.execute_reply": "2024-10-24T05:39:08.750177Z",
     "shell.execute_reply.started": "2024-10-24T05:39:08.746880Z"
    },
    "tags": []
   },
   "outputs": [],
   "source": [
    "df_for_training=df_for_training.reset_index()"
   ]
  },
  {
   "cell_type": "code",
   "execution_count": 56,
   "id": "fb6c7aee-d6f1-4bd2-a8f6-f450f6bbb8a1",
   "metadata": {
    "execution": {
     "iopub.execute_input": "2024-10-24T05:39:08.901023Z",
     "iopub.status.busy": "2024-10-24T05:39:08.900763Z",
     "iopub.status.idle": "2024-10-24T05:39:08.908427Z",
     "shell.execute_reply": "2024-10-24T05:39:08.907905Z",
     "shell.execute_reply.started": "2024-10-24T05:39:08.900997Z"
    },
    "tags": []
   },
   "outputs": [],
   "source": [
    "df_for_training=df_for_training.drop('index',axis=1)"
   ]
  },
  {
   "cell_type": "code",
   "execution_count": 57,
   "id": "c1c6c2b7-4de8-45f0-ad35-6fd9970b2858",
   "metadata": {
    "execution": {
     "iopub.execute_input": "2024-10-24T05:39:09.608871Z",
     "iopub.status.busy": "2024-10-24T05:39:09.608288Z",
     "iopub.status.idle": "2024-10-24T05:39:09.726334Z",
     "shell.execute_reply": "2024-10-24T05:39:09.725814Z",
     "shell.execute_reply.started": "2024-10-24T05:39:09.608798Z"
    },
    "tags": []
   },
   "outputs": [],
   "source": [
    "df_for_training.to_csv('data_for_training.csv',sep='|')"
   ]
  },
  {
   "cell_type": "code",
   "execution_count": 58,
   "id": "b4f1d3e1-bfb9-45aa-afff-60b4fd08ca99",
   "metadata": {
    "execution": {
     "iopub.execute_input": "2024-10-24T05:39:10.000193Z",
     "iopub.status.busy": "2024-10-24T05:39:09.999620Z",
     "iopub.status.idle": "2024-10-24T05:39:10.003111Z",
     "shell.execute_reply": "2024-10-24T05:39:10.002560Z",
     "shell.execute_reply.started": "2024-10-24T05:39:10.000150Z"
    },
    "tags": []
   },
   "outputs": [],
   "source": [
    "df_for_validation=df_for_train[24000:32000]"
   ]
  },
  {
   "cell_type": "code",
   "execution_count": 59,
   "id": "29b3fc24-3d0c-433a-ab81-3fd330e4cd5a",
   "metadata": {
    "execution": {
     "iopub.execute_input": "2024-10-24T05:39:10.841368Z",
     "iopub.status.busy": "2024-10-24T05:39:10.838161Z",
     "iopub.status.idle": "2024-10-24T05:39:10.846601Z",
     "shell.execute_reply": "2024-10-24T05:39:10.845545Z",
     "shell.execute_reply.started": "2024-10-24T05:39:10.841306Z"
    },
    "tags": []
   },
   "outputs": [],
   "source": [
    "df_for_validation=df_for_validation.reset_index()"
   ]
  },
  {
   "cell_type": "code",
   "execution_count": 60,
   "id": "bd2c088b-62e6-491b-b856-d42e2d46d40b",
   "metadata": {
    "execution": {
     "iopub.execute_input": "2024-10-24T05:39:10.849698Z",
     "iopub.status.busy": "2024-10-24T05:39:10.848672Z",
     "iopub.status.idle": "2024-10-24T05:39:10.856009Z",
     "shell.execute_reply": "2024-10-24T05:39:10.854775Z",
     "shell.execute_reply.started": "2024-10-24T05:39:10.849649Z"
    },
    "tags": []
   },
   "outputs": [],
   "source": [
    "df_for_validation=df_for_validation.drop('index',axis=1)"
   ]
  },
  {
   "cell_type": "code",
   "execution_count": 61,
   "id": "b0285371-362c-4a52-9178-a0fb63954c92",
   "metadata": {
    "execution": {
     "iopub.execute_input": "2024-10-24T05:39:10.859778Z",
     "iopub.status.busy": "2024-10-24T05:39:10.859487Z",
     "iopub.status.idle": "2024-10-24T05:39:10.906037Z",
     "shell.execute_reply": "2024-10-24T05:39:10.905620Z",
     "shell.execute_reply.started": "2024-10-24T05:39:10.859747Z"
    },
    "tags": []
   },
   "outputs": [],
   "source": [
    "df_for_validation.to_csv('data_for_validation.csv',sep='|')"
   ]
  },
  {
   "cell_type": "code",
   "execution_count": 62,
   "id": "3fb9ce8c-815c-4882-98d2-ef4ab2cfe579",
   "metadata": {
    "execution": {
     "iopub.execute_input": "2024-10-24T05:39:11.851795Z",
     "iopub.status.busy": "2024-10-24T05:39:11.851227Z",
     "iopub.status.idle": "2024-10-24T05:39:11.855140Z",
     "shell.execute_reply": "2024-10-24T05:39:11.854690Z",
     "shell.execute_reply.started": "2024-10-24T05:39:11.851767Z"
    },
    "tags": []
   },
   "outputs": [],
   "source": [
    "df_for_test=df_for_train[32000:40000]"
   ]
  },
  {
   "cell_type": "code",
   "execution_count": 63,
   "id": "f08ed2bd-d448-4db0-b40d-d2c37cba8569",
   "metadata": {
    "execution": {
     "iopub.execute_input": "2024-10-24T05:39:11.856661Z",
     "iopub.status.busy": "2024-10-24T05:39:11.856255Z",
     "iopub.status.idle": "2024-10-24T05:39:11.859948Z",
     "shell.execute_reply": "2024-10-24T05:39:11.859420Z",
     "shell.execute_reply.started": "2024-10-24T05:39:11.856635Z"
    },
    "tags": []
   },
   "outputs": [],
   "source": [
    "df_for_test=df_for_test.reset_index()"
   ]
  },
  {
   "cell_type": "code",
   "execution_count": 64,
   "id": "0913dadd-af18-460a-8823-0b85e68d4c0c",
   "metadata": {
    "execution": {
     "iopub.execute_input": "2024-10-24T05:39:11.999832Z",
     "iopub.status.busy": "2024-10-24T05:39:11.999386Z",
     "iopub.status.idle": "2024-10-24T05:39:12.006542Z",
     "shell.execute_reply": "2024-10-24T05:39:12.005291Z",
     "shell.execute_reply.started": "2024-10-24T05:39:11.999791Z"
    },
    "tags": []
   },
   "outputs": [],
   "source": [
    "df_for_test=df_for_test.drop('index',axis=1)"
   ]
  },
  {
   "cell_type": "code",
   "execution_count": 65,
   "id": "92ad77bb-d175-448e-9eba-cfc50bc70e26",
   "metadata": {
    "execution": {
     "iopub.execute_input": "2024-10-24T05:39:12.158281Z",
     "iopub.status.busy": "2024-10-24T05:39:12.157388Z",
     "iopub.status.idle": "2024-10-24T05:39:12.200357Z",
     "shell.execute_reply": "2024-10-24T05:39:12.199928Z",
     "shell.execute_reply.started": "2024-10-24T05:39:12.158220Z"
    },
    "tags": []
   },
   "outputs": [],
   "source": [
    "df_for_test.to_csv('data_for_test.csv',sep='|')"
   ]
  },
  {
   "cell_type": "code",
   "execution_count": 66,
   "id": "a54f2295-1a00-4d11-a2d7-af1f6e25548c",
   "metadata": {
    "execution": {
     "iopub.execute_input": "2024-10-24T05:39:22.346313Z",
     "iopub.status.busy": "2024-10-24T05:39:22.346028Z",
     "iopub.status.idle": "2024-10-24T05:39:22.358095Z",
     "shell.execute_reply": "2024-10-24T05:39:22.356936Z",
     "shell.execute_reply.started": "2024-10-24T05:39:22.346292Z"
    },
    "tags": []
   },
   "outputs": [
    {
     "data": {
      "text/html": [
       "<div>\n",
       "<style scoped>\n",
       "    .dataframe tbody tr th:only-of-type {\n",
       "        vertical-align: middle;\n",
       "    }\n",
       "\n",
       "    .dataframe tbody tr th {\n",
       "        vertical-align: top;\n",
       "    }\n",
       "\n",
       "    .dataframe thead th {\n",
       "        text-align: right;\n",
       "    }\n",
       "</style>\n",
       "<table border=\"1\" class=\"dataframe\">\n",
       "  <thead>\n",
       "    <tr style=\"text-align: right;\">\n",
       "      <th></th>\n",
       "      <th>content</th>\n",
       "      <th>label</th>\n",
       "    </tr>\n",
       "  </thead>\n",
       "  <tbody>\n",
       "    <tr>\n",
       "      <th>0</th>\n",
       "      <td>Accordingly, Nicolson, in his instructions of ...</td>\n",
       "      <td>positive</td>\n",
       "    </tr>\n",
       "    <tr>\n",
       "      <th>1</th>\n",
       "      <td>In reply Rose, specifically pointing to Chines...</td>\n",
       "      <td>wrong</td>\n",
       "    </tr>\n",
       "    <tr>\n",
       "      <th>2</th>\n",
       "      <td>In Nehru’s view, however, to come to such an a...</td>\n",
       "      <td>positive</td>\n",
       "    </tr>\n",
       "    <tr>\n",
       "      <th>3</th>\n",
       "      <td>Likewise, the conflict with India merits barel...</td>\n",
       "      <td>wrong</td>\n",
       "    </tr>\n",
       "    <tr>\n",
       "      <th>4</th>\n",
       "      <td>The flashpoints lay in those places, such as L...</td>\n",
       "      <td>positive</td>\n",
       "    </tr>\n",
       "    <tr>\n",
       "      <th>...</th>\n",
       "      <td>...</td>\n",
       "      <td>...</td>\n",
       "    </tr>\n",
       "    <tr>\n",
       "      <th>23995</th>\n",
       "      <td>One of Bell’s arguments, however, he felt obli...</td>\n",
       "      <td>positive</td>\n",
       "    </tr>\n",
       "    <tr>\n",
       "      <th>23996</th>\n",
       "      <td>Its peremptory tone would still have been out ...</td>\n",
       "      <td>positive</td>\n",
       "    </tr>\n",
       "    <tr>\n",
       "      <th>23997</th>\n",
       "      <td>2 Viscount Grey of Fallodon, TwentyFive Years ...</td>\n",
       "      <td>positive</td>\n",
       "    </tr>\n",
       "    <tr>\n",
       "      <th>23998</th>\n",
       "      <td>Lord Hardinge had now been persuaded that the ...</td>\n",
       "      <td>positive</td>\n",
       "    </tr>\n",
       "    <tr>\n",
       "      <th>23999</th>\n",
       "      <td>And Tsangle, that position of high political a...</td>\n",
       "      <td>positive</td>\n",
       "    </tr>\n",
       "  </tbody>\n",
       "</table>\n",
       "<p>24000 rows × 2 columns</p>\n",
       "</div>"
      ],
      "text/plain": [
       "                                                 content     label\n",
       "0      Accordingly, Nicolson, in his instructions of ...  positive\n",
       "1      In reply Rose, specifically pointing to Chines...     wrong\n",
       "2      In Nehru’s view, however, to come to such an a...  positive\n",
       "3      Likewise, the conflict with India merits barel...     wrong\n",
       "4      The flashpoints lay in those places, such as L...  positive\n",
       "...                                                  ...       ...\n",
       "23995  One of Bell’s arguments, however, he felt obli...  positive\n",
       "23996  Its peremptory tone would still have been out ...  positive\n",
       "23997  2 Viscount Grey of Fallodon, TwentyFive Years ...  positive\n",
       "23998  Lord Hardinge had now been persuaded that the ...  positive\n",
       "23999  And Tsangle, that position of high political a...  positive\n",
       "\n",
       "[24000 rows x 2 columns]"
      ]
     },
     "execution_count": 66,
     "metadata": {},
     "output_type": "execute_result"
    }
   ],
   "source": [
    "df_for_training"
   ]
  },
  {
   "cell_type": "code",
   "execution_count": 67,
   "id": "d2ad4cce-f7f6-459b-88b5-3d8017e77505",
   "metadata": {
    "execution": {
     "iopub.execute_input": "2024-10-24T05:39:30.069580Z",
     "iopub.status.busy": "2024-10-24T05:39:30.069034Z",
     "iopub.status.idle": "2024-10-24T05:39:30.084815Z",
     "shell.execute_reply": "2024-10-24T05:39:30.083535Z",
     "shell.execute_reply.started": "2024-10-24T05:39:30.069538Z"
    },
    "tags": []
   },
   "outputs": [
    {
     "data": {
      "text/html": [
       "<div>\n",
       "<style scoped>\n",
       "    .dataframe tbody tr th:only-of-type {\n",
       "        vertical-align: middle;\n",
       "    }\n",
       "\n",
       "    .dataframe tbody tr th {\n",
       "        vertical-align: top;\n",
       "    }\n",
       "\n",
       "    .dataframe thead th {\n",
       "        text-align: right;\n",
       "    }\n",
       "</style>\n",
       "<table border=\"1\" class=\"dataframe\">\n",
       "  <thead>\n",
       "    <tr style=\"text-align: right;\">\n",
       "      <th></th>\n",
       "      <th>content</th>\n",
       "      <th>label</th>\n",
       "    </tr>\n",
       "  </thead>\n",
       "  <tbody>\n",
       "    <tr>\n",
       "      <th>0</th>\n",
       "      <td>When that evacuation was completed, India woul...</td>\n",
       "      <td>positive</td>\n",
       "    </tr>\n",
       "    <tr>\n",
       "      <th>1</th>\n",
       "      <td>It has also been able to join the ASEAN Region...</td>\n",
       "      <td>positive</td>\n",
       "    </tr>\n",
       "    <tr>\n",
       "      <th>2</th>\n",
       "      <td>See Bains, J. S., India’s International Disput...</td>\n",
       "      <td>wrong</td>\n",
       "    </tr>\n",
       "    <tr>\n",
       "      <th>3</th>\n",
       "      <td>The Treaty signed by Bhutan in 1910 was the Tr...</td>\n",
       "      <td>wrong</td>\n",
       "    </tr>\n",
       "    <tr>\n",
       "      <th>4</th>\n",
       "      <td>Jordan to Grey, despatch, 2 May 1914, Encl. 1,...</td>\n",
       "      <td>wrong</td>\n",
       "    </tr>\n",
       "    <tr>\n",
       "      <th>...</th>\n",
       "      <td>...</td>\n",
       "      <td>...</td>\n",
       "    </tr>\n",
       "    <tr>\n",
       "      <th>7995</th>\n",
       "      <td>Mansingh and Ranganathan traverse such soverei...</td>\n",
       "      <td>positive</td>\n",
       "    </tr>\n",
       "    <tr>\n",
       "      <th>7996</th>\n",
       "      <td>For the first time, Zhou questioned Indian map...</td>\n",
       "      <td>wrong</td>\n",
       "    </tr>\n",
       "    <tr>\n",
       "      <th>7997</th>\n",
       "      <td>Their economies will have growing significance...</td>\n",
       "      <td>positive</td>\n",
       "    </tr>\n",
       "    <tr>\n",
       "      <th>7998</th>\n",
       "      <td>66 Text in Bernard B. Fall, The Two VietNams: ...</td>\n",
       "      <td>wrong</td>\n",
       "    </tr>\n",
       "    <tr>\n",
       "      <th>7999</th>\n",
       "      <td>O’Connor’s struggle against the ‘facegaining’...</td>\n",
       "      <td>positive</td>\n",
       "    </tr>\n",
       "  </tbody>\n",
       "</table>\n",
       "<p>8000 rows × 2 columns</p>\n",
       "</div>"
      ],
      "text/plain": [
       "                                                content     label\n",
       "0     When that evacuation was completed, India woul...  positive\n",
       "1     It has also been able to join the ASEAN Region...  positive\n",
       "2     See Bains, J. S., India’s International Disput...     wrong\n",
       "3     The Treaty signed by Bhutan in 1910 was the Tr...     wrong\n",
       "4     Jordan to Grey, despatch, 2 May 1914, Encl. 1,...     wrong\n",
       "...                                                 ...       ...\n",
       "7995  Mansingh and Ranganathan traverse such soverei...  positive\n",
       "7996  For the first time, Zhou questioned Indian map...     wrong\n",
       "7997  Their economies will have growing significance...  positive\n",
       "7998  66 Text in Bernard B. Fall, The Two VietNams: ...     wrong\n",
       "7999   O’Connor’s struggle against the ‘facegaining’...  positive\n",
       "\n",
       "[8000 rows x 2 columns]"
      ]
     },
     "execution_count": 67,
     "metadata": {},
     "output_type": "execute_result"
    }
   ],
   "source": [
    "df_for_validation"
   ]
  },
  {
   "cell_type": "code",
   "execution_count": 68,
   "id": "6a1ad52f-a9a7-413d-a7b0-85a966e71964",
   "metadata": {
    "execution": {
     "iopub.execute_input": "2024-10-24T05:39:40.539852Z",
     "iopub.status.busy": "2024-10-24T05:39:40.539330Z",
     "iopub.status.idle": "2024-10-24T05:39:40.553816Z",
     "shell.execute_reply": "2024-10-24T05:39:40.552536Z",
     "shell.execute_reply.started": "2024-10-24T05:39:40.539809Z"
    },
    "tags": []
   },
   "outputs": [
    {
     "data": {
      "text/html": [
       "<div>\n",
       "<style scoped>\n",
       "    .dataframe tbody tr th:only-of-type {\n",
       "        vertical-align: middle;\n",
       "    }\n",
       "\n",
       "    .dataframe tbody tr th {\n",
       "        vertical-align: top;\n",
       "    }\n",
       "\n",
       "    .dataframe thead th {\n",
       "        text-align: right;\n",
       "    }\n",
       "</style>\n",
       "<table border=\"1\" class=\"dataframe\">\n",
       "  <thead>\n",
       "    <tr style=\"text-align: right;\">\n",
       "      <th></th>\n",
       "      <th>content</th>\n",
       "      <th>label</th>\n",
       "    </tr>\n",
       "  </thead>\n",
       "  <tbody>\n",
       "    <tr>\n",
       "      <th>0</th>\n",
       "      <td>In the context of both India’s military limita...</td>\n",
       "      <td>positive</td>\n",
       "    </tr>\n",
       "    <tr>\n",
       "      <th>1</th>\n",
       "      <td>The other safeguard was furnished, somewhat ir...</td>\n",
       "      <td>wrong</td>\n",
       "    </tr>\n",
       "    <tr>\n",
       "      <th>2</th>\n",
       "      <td>He pointed out that if Hedin were frustrated i...</td>\n",
       "      <td>positive</td>\n",
       "    </tr>\n",
       "    <tr>\n",
       "      <th>3</th>\n",
       "      <td>But by the second week of May, the ambushing o...</td>\n",
       "      <td>wrong</td>\n",
       "    </tr>\n",
       "    <tr>\n",
       "      <th>4</th>\n",
       "      <td>The Russian Government, therefore, wished to e...</td>\n",
       "      <td>positive</td>\n",
       "    </tr>\n",
       "    <tr>\n",
       "      <th>...</th>\n",
       "      <td>...</td>\n",
       "      <td>...</td>\n",
       "    </tr>\n",
       "    <tr>\n",
       "      <th>7995</th>\n",
       "      <td>It is better to keep SinoAmerican relations fr...</td>\n",
       "      <td>wrong</td>\n",
       "    </tr>\n",
       "    <tr>\n",
       "      <th>7996</th>\n",
       "      <td>Haji Habibulla, it seems, in 1864 and 1865 was...</td>\n",
       "      <td>positive</td>\n",
       "    </tr>\n",
       "    <tr>\n",
       "      <th>7997</th>\n",
       "      <td>It has been noticed earlier that eventually, t...</td>\n",
       "      <td>wrong</td>\n",
       "    </tr>\n",
       "    <tr>\n",
       "      <th>7998</th>\n",
       "      <td>The Indian replies and counterprotests used al...</td>\n",
       "      <td>positive</td>\n",
       "    </tr>\n",
       "    <tr>\n",
       "      <th>7999</th>\n",
       "      <td>Again, McMahon's draft referred to the delinea...</td>\n",
       "      <td>wrong</td>\n",
       "    </tr>\n",
       "  </tbody>\n",
       "</table>\n",
       "<p>8000 rows × 2 columns</p>\n",
       "</div>"
      ],
      "text/plain": [
       "                                                content     label\n",
       "0     In the context of both India’s military limita...  positive\n",
       "1     The other safeguard was furnished, somewhat ir...     wrong\n",
       "2     He pointed out that if Hedin were frustrated i...  positive\n",
       "3     But by the second week of May, the ambushing o...     wrong\n",
       "4     The Russian Government, therefore, wished to e...  positive\n",
       "...                                                 ...       ...\n",
       "7995  It is better to keep SinoAmerican relations fr...     wrong\n",
       "7996  Haji Habibulla, it seems, in 1864 and 1865 was...  positive\n",
       "7997  It has been noticed earlier that eventually, t...     wrong\n",
       "7998  The Indian replies and counterprotests used al...  positive\n",
       "7999  Again, McMahon's draft referred to the delinea...     wrong\n",
       "\n",
       "[8000 rows x 2 columns]"
      ]
     },
     "execution_count": 68,
     "metadata": {},
     "output_type": "execute_result"
    }
   ],
   "source": [
    "df_for_test"
   ]
  },
  {
   "cell_type": "code",
   "execution_count": null,
   "id": "1f5525a9-279f-42d6-9f81-404c348904b6",
   "metadata": {},
   "outputs": [],
   "source": []
  }
 ],
 "metadata": {
  "kernelspec": {
   "display_name": "Python 3 (ipykernel)",
   "language": "python",
   "name": "python3"
  },
  "language_info": {
   "codemirror_mode": {
    "name": "ipython",
    "version": 3
   },
   "file_extension": ".py",
   "mimetype": "text/x-python",
   "name": "python",
   "nbconvert_exporter": "python",
   "pygments_lexer": "ipython3",
   "version": "3.8.18"
  }
 },
 "nbformat": 4,
 "nbformat_minor": 5
}
